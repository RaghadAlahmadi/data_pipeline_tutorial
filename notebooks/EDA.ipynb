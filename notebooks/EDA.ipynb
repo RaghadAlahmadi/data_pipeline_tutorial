{
 "cells": [
  {
   "cell_type": "markdown",
   "metadata": {},
   "source": [
    "> ***Note:*** if you are going to use **Koalas** instead of **pyspark**, make sure to install it using `conda install koalas`"
   ]
  },
  {
   "cell_type": "code",
   "execution_count": null,
   "metadata": {},
   "outputs": [],
   "source": [
    "from pyspark.sql import SparkSession\n",
    "import databricks.koalas as ks\n",
    "\n",
    "# Create a spark session\n",
    "spark_session = (SparkSession\n",
    "                    .builder\n",
    "                    .getOrCreate()\n",
    "                    )\n",
    "\n",
    "# function to extract the data\n",
    "def extract_data():\n",
    "    \n",
    "    kdf_categories = ks.read_csv('../data/raw_data/disaster_categories.csv')\n",
    "    kdf_messages = ks.read_csv('../data/raw_data/disaster_messages.csv')\n",
    "\n",
    "    return kdf_messages,kdf_categories\n",
    "\n",
    "# Extarct the raw data\n",
    "kdf_messages, kdf_categories = extract_data()"
   ]
  },
  {
   "cell_type": "code",
   "execution_count": null,
   "metadata": {},
   "outputs": [],
   "source": [
    "display(kdf_messages.head())\n",
    "display(kdf_categories.head())"
   ]
  }
 ],
 "metadata": {
  "kernelspec": {
   "display_name": "Python 3",
   "language": "python",
   "name": "python3"
  },
  "language_info": {
   "codemirror_mode": {
    "name": "ipython",
    "version": 3
   },
   "file_extension": ".py",
   "mimetype": "text/x-python",
   "name": "python",
   "nbconvert_exporter": "python",
   "pygments_lexer": "ipython3",
   "version": "3.7.4"
  }
 },
 "nbformat": 4,
 "nbformat_minor": 4
}
